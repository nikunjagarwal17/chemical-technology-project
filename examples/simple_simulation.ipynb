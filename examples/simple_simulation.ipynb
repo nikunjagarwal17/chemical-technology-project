{
 "cells": [
  {
   "cell_type": "markdown",
   "id": "0b425c83",
   "metadata": {},
   "source": [
    "# SimpleCantera simulation example\n",
    "markdown\n",
    "markdown\n",
    "# SimpleCantera multi-species simulation\n",
    "This notebook runs a multi-species A -> B -> C example using the pure-Python API or compiled extension if available.\n",
    "code\n",
    "python\n",
    "from simplecantera import build_from_dict, run_simulation\n",
    "import matplotlib.pyplot as plt\n",
    "spec = {\n",
    "  'species': ['A','B','C'],\n",
    "  'reactions': [\n",
    "    {'kf': 1.0, 'kr': 0.0, 'reactants': {'A':1}, 'products': {'B':1}},\n",
    "    {'kf': 0.5, 'kr': 0.0, 'reactants': {'B':1}, 'products': {'C':1}},\n",
    "  ],\n",
    "  'initial': {'temperature': 300.0, 'conc': {'A':1.0,'B':0.0,'C':0.0}},\n",
    "  'sim': {'time_span': 5.0, 'time_step': 0.01}\n",
    "}\n",
    "reactor, sim = build_from_dict(spec)\n",
    "times, traj = reactor.run(sim.get('time_span',5.0), sim.get('time_step',0.01))\n",
    "A = [row[0] for row in traj]\n",
    "B = [row[1] for row in traj]\n",
    "C = [row[2] for row in traj]\n",
    "plt.plot(times, A, label='A')\n",
    "plt.plot(times, B, label='B')\n",
    "plt.plot(times, C, label='C')\n",
    "plt.xlabel('time')\n",
    "plt.ylabel('concentration')\n",
    "plt.legend()\n",
    "plt.show()"
   ]
  }
 ],
 "metadata": {
  "language_info": {
   "name": "python"
  }
 },
 "nbformat": 4,
 "nbformat_minor": 5
}
